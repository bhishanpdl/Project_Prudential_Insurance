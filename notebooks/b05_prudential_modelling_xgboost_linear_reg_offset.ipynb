{
  "nbformat": 4,
  "nbformat_minor": 0,
  "metadata": {
    "colab": {
      "name": "b05_prudential_modelling_xgboost_linear_reg_offset.ipynb",
      "provenance": [],
      "collapsed_sections": []
    },
    "kernelspec": {
      "name": "python3",
      "display_name": "Python 3"
    }
  },
  "cells": [
    {
      "cell_type": "markdown",
      "metadata": {
        "id": "pmU7v5L4Y0eB",
        "colab_type": "text"
      },
      "source": [
        "<div class=\"alert alert-block alert-success\">\n",
        "<b>Kernel Author:</b>  <br>\n",
        "<a href=\"https://bhishanpdl.github.io/\" , target=\"_blank\">Bhishan Poudel, Ph.D Astrophysics</a> .\n",
        "</div>"
      ]
    },
    {
      "cell_type": "markdown",
      "metadata": {
        "id": "aSgj0OppY46P",
        "colab_type": "text"
      },
      "source": [
        "# Description\n",
        "In this project we will use multiclass classification to predict one of the 8 possible value of Response.\n",
        "\n",
        "The data is taken from Kaggle Prudential Life Insurance Project.\n",
        "\n",
        "About only 40% household in USA has life insurance policy. Based on different of applicant 8 different quotes are granted to applicants.\n",
        "\n",
        "Here category 8 has the highest counts, I assume it the quote that is granted.\n",
        "```\n",
        "Records: 60k\n",
        "Features: 127\n",
        "Target: Response (has 8 categories, 1-8)\n",
        "\n",
        "```\n",
        "\n",
        "Features:\n",
        "```\n",
        "1 Misc             : Age ht wt bmi              4\n",
        "2 Product Info     : Product_Info_1 to 7        7\n",
        "3 Employment Info  : Employment_Info_1 to 6     6\n",
        "4 Insured Info     : InsuredInfo_1 to 7         7\n",
        "5 Insurance History: Insurance_History_1 to 9   9\n",
        "6 Family History   : Family_Hist_1 to 5         5\n",
        "7 Medical History  : Medical_History_1 to 41    41\n",
        "8 Medical Keywords : Medical_Keyword_1 to 48    48\n",
        "Target: Response                                1\n",
        "ID    : ID                                      1\n",
        "---------------------------------------------------\n",
        "Total Features: 127\n",
        "Dependent Variable: 1 (Response)\n",
        "```\n",
        "\n",
        "Method Used:\n",
        "- XGBoost\n",
        "\n",
        "Metric Used:\n",
        "- Weighted Quadratic Kappa (cohehs kappa with weight equals quadratic)\n",
        "\n",
        "**References**  \n",
        "- https://www.kaggle.com/zeroblue/xgboost-with-optimized-offsets\n",
        "\n",
        "**Notes about offset**  \n",
        "Here, in this project the metric of evaluation is kappa. But when we fit the linear regression using xgboost the loss function is squared error (MSE). The predictions given by optimizing MSE may not be optimal for the evaluation metric kappa. \n",
        "\n",
        "For the ordinal ranking metric such as kappa, we assume there is parameter space which is more suitable to predictions if we offset the predictions given by MSE. For example, a prediction 1.6 from MSE belongs to class 2. But if we had a offset of 1 for that prediction, then 1.6+1 = 2.6, which becomes class 3. By changing the class we may achieve the better results."
      ]
    },
    {
      "cell_type": "markdown",
      "metadata": {
        "id": "QB4VFyugZO3S",
        "colab_type": "text"
      },
      "source": [
        "# Imports"
      ]
    },
    {
      "cell_type": "code",
      "metadata": {
        "id": "MnwYMwzLY-Rj",
        "colab_type": "code",
        "colab": {
          "base_uri": "https://localhost:8080/",
          "height": 90
        },
        "outputId": "249eb19b-3677-4dd8-f096-52c267e2dc7b"
      },
      "source": [
        "import time\n",
        "import numpy as np\n",
        "import pandas as pd\n",
        "import seaborn as sns\n",
        "import os\n",
        "import json\n",
        "from tqdm import tqdm_notebook as tqdm\n",
        "import matplotlib.pyplot as plt\n",
        "\n",
        "%matplotlib inline\n",
        "%config InlineBackend.figure_format = 'retina'\n",
        "plt.style.use('ggplot') \n",
        "SEED=100\n",
        "home = os.path.expanduser('~')\n",
        "time_start_notebook = time.time()\n",
        "\n",
        "from sklearn.model_selection import train_test_split\n",
        "from sklearn.model_selection import StratifiedKFold\n",
        "from sklearn import metrics\n",
        "from scipy.optimize import fmin_powell\n",
        "import xgboost as xgb\n",
        "xgb.__version__"
      ],
      "execution_count": 1,
      "outputs": [
        {
          "output_type": "stream",
          "text": [
            "/usr/local/lib/python3.6/dist-packages/statsmodels/tools/_testing.py:19: FutureWarning: pandas.util.testing is deprecated. Use the functions in the public API at pandas.testing instead.\n",
            "  import pandas.util.testing as tm\n"
          ],
          "name": "stderr"
        },
        {
          "output_type": "execute_result",
          "data": {
            "text/plain": [
              "'1.1.1'"
            ]
          },
          "metadata": {
            "tags": []
          },
          "execution_count": 1
        }
      ]
    },
    {
      "cell_type": "markdown",
      "metadata": {
        "id": "2VfYzhKH2qiK",
        "colab_type": "text"
      },
      "source": [
        "# Data Cleaning"
      ]
    },
    {
      "cell_type": "code",
      "metadata": {
        "id": "Ne7Ug1EEdbVN",
        "colab_type": "code",
        "colab": {
          "base_uri": "https://localhost:8080/",
          "height": 52
        },
        "outputId": "d625a7fd-3208-4269-ca0b-5408248be8ab"
      },
      "source": [
        "def data_cleaning():\n",
        "    df = pd.read_csv('https://github.com/bhishanpdl/Datasets/blob/master/Prudential_Insurance/raw/train.csv.zip?raw=true',compression='zip')\n",
        "    columns_to_drop = ['Id', 'Medical_History_10','Medical_History_24']\n",
        "    df = df.drop(columns_to_drop,axis=1)\n",
        "    df['Product_Info_2_char'] = df.Product_Info_2.str[0]\n",
        "    df['Product_Info_2_num'] = df.Product_Info_2.str[1]\n",
        "\n",
        "    # factorize categorical variables\n",
        "    df['Product_Info_2'] = pd.factorize(df['Product_Info_2'])[0]\n",
        "    df['Product_Info_2_char'] = pd.factorize(df['Product_Info_2_char'])[0]\n",
        "    df['Product_Info_2_num'] = pd.factorize(df['Product_Info_2_num'])[0]\n",
        "\n",
        "    df['BMI_Age'] = df['BMI'] * df['Ins_Age']\n",
        "\n",
        "    med_keyword_columns = df.columns[df.columns.str.startswith('Medical_Keyword_')]\n",
        "    df['Med_Keywords_Count'] = df[med_keyword_columns].sum(axis=1)\n",
        "    df = df.fillna(-1)\n",
        "\n",
        "    return df\n",
        "\n",
        "df = data_cleaning()\n",
        "print(df.shape)\n",
        "df.isna().sum().sum(), df.sum().sum()"
      ],
      "execution_count": 2,
      "outputs": [
        {
          "output_type": "stream",
          "text": [
            "(59381, 129)\n"
          ],
          "name": "stdout"
        },
        {
          "output_type": "execute_result",
          "data": {
            "text/plain": [
              "(0, 26897356.818315115)"
            ]
          },
          "metadata": {
            "tags": []
          },
          "execution_count": 2
        }
      ]
    },
    {
      "cell_type": "markdown",
      "metadata": {
        "id": "dQMoFYd-cVK2",
        "colab_type": "text"
      },
      "source": [
        "# Train Test Split with Stratify"
      ]
    },
    {
      "cell_type": "code",
      "metadata": {
        "id": "0sCGB7MqdTgD",
        "colab_type": "code",
        "colab": {}
      },
      "source": [
        "from sklearn.model_selection import train_test_split\n",
        "\n",
        "target = 'Response'\n",
        "df_Xtrain, df_Xtest, ser_ytrain, ser_ytest = train_test_split(\n",
        "    df.drop(target,axis=1), df[target],\n",
        "    test_size=0.2, random_state=SEED, stratify=df[target])\n",
        "\n",
        "\n",
        "ytrain = ser_ytrain.to_numpy().ravel()\n",
        "ytest = ser_ytest.to_numpy().ravel()"
      ],
      "execution_count": 3,
      "outputs": []
    },
    {
      "cell_type": "code",
      "metadata": {
        "id": "c74kddn0R03g",
        "colab_type": "code",
        "colab": {}
      },
      "source": [
        "dtrain = xgb.DMatrix(df_Xtrain, label=ser_ytrain)\n",
        "dtest = xgb.DMatrix(df_Xtest, label=ser_ytest)"
      ],
      "execution_count": 4,
      "outputs": []
    },
    {
      "cell_type": "markdown",
      "metadata": {
        "id": "SBvntjMcnnZm",
        "colab_type": "text"
      },
      "source": [
        "# Evaluation Metric"
      ]
    },
    {
      "cell_type": "code",
      "metadata": {
        "id": "xGmT2kLFnpuu",
        "colab_type": "code",
        "colab": {}
      },
      "source": [
        "def eval_wrapper(y, yhat):\n",
        "    # cohens kappa is symmetrics. y <=> yhat gives same result.\n",
        "    y = np.array(y).astype(int)\n",
        "    yhat = np.array(yhat)\n",
        "    yhat = np.clip(np.round(yhat), np.min(y), np.max(y)).astype(int)   \n",
        "    return metrics.cohen_kappa_score(y, yhat,weights='quadratic')"
      ],
      "execution_count": 5,
      "outputs": []
    },
    {
      "cell_type": "markdown",
      "metadata": {
        "id": "OIWQJS1YZjzw",
        "colab_type": "text"
      },
      "source": [
        "# Modelling xgboost classifier"
      ]
    },
    {
      "cell_type": "code",
      "metadata": {
        "id": "DZa_wP7qAImQ",
        "colab_type": "code",
        "colab": {
          "base_uri": "https://localhost:8080/",
          "height": 34
        },
        "outputId": "fb9b4948-dc6c-4663-8c81-f6941f4d896b"
      },
      "source": [
        "import xgboost\n",
        "from xgboost import XGBClassifier\n",
        "\n",
        "xgboost.__version__"
      ],
      "execution_count": 6,
      "outputs": [
        {
          "output_type": "execute_result",
          "data": {
            "text/plain": [
              "'1.1.1'"
            ]
          },
          "metadata": {
            "tags": []
          },
          "execution_count": 6
        }
      ]
    },
    {
      "cell_type": "code",
      "metadata": {
        "id": "CwAWGNBy4u1R",
        "colab_type": "code",
        "colab": {}
      },
      "source": [
        "params_dict = {'objective': 'reg:squarederror',\n",
        "              'eta': 0.05,\n",
        "              'min_child_weight': 240,\n",
        "              'subsample': 0.9,\n",
        "              'colsample_bytree': 0.67,\n",
        "              'max_depth': 6\n",
        "}\n",
        "xgb_num_rounds = 800"
      ],
      "execution_count": 7,
      "outputs": []
    },
    {
      "cell_type": "code",
      "metadata": {
        "id": "zxADxecf49kw",
        "colab_type": "code",
        "colab": {
          "base_uri": "https://localhost:8080/",
          "height": 52
        },
        "outputId": "d86f828d-5d92-43d1-da52-15c715398749"
      },
      "source": [
        "%%time\n",
        "bst = xgb.train(params_dict, dtrain, xgb_num_rounds)"
      ],
      "execution_count": 8,
      "outputs": [
        {
          "output_type": "stream",
          "text": [
            "CPU times: user 4min 16s, sys: 162 ms, total: 4min 16s\n",
            "Wall time: 2min 10s\n"
          ],
          "name": "stdout"
        }
      ]
    },
    {
      "cell_type": "markdown",
      "metadata": {
        "id": "jYrqlZ8r9FHu",
        "colab_type": "text"
      },
      "source": [
        "# Model Evaluation"
      ]
    },
    {
      "cell_type": "code",
      "metadata": {
        "id": "Zftfm_ni6w8z",
        "colab_type": "code",
        "colab": {
          "base_uri": "https://localhost:8080/",
          "height": 52
        },
        "outputId": "f2bbb894-81e4-4775-b308-7adacdcbec89"
      },
      "source": [
        "# get preds\n",
        "train_preds = bst.predict(dtrain, ntree_limit=bst.best_iteration)\n",
        "test_preds = bst.predict(dtest, ntree_limit=bst.best_iteration)\n",
        "\n",
        "print('Train score is:', eval_wrapper(ytrain,train_preds))\n",
        "print('Test score is :', eval_wrapper(ytest, test_preds))"
      ],
      "execution_count": 9,
      "outputs": [
        {
          "output_type": "stream",
          "text": [
            "Train score is: 0.669183415991036\n",
            "Test score is : 0.6040096397174282\n"
          ],
          "name": "stdout"
        }
      ]
    },
    {
      "cell_type": "markdown",
      "metadata": {
        "id": "EAQtSPUY9QzG",
        "colab_type": "text"
      },
      "source": [
        "# Find Offsets for Train\n",
        "- https://www.kaggle.com/c/prudential-life-insurance-assessment/discussion/19003\n",
        "- https://github.com/zhurak/kaggle-prudential/blob/master/code/predict.py"
      ]
    },
    {
      "cell_type": "code",
      "metadata": {
        "id": "XFLtakLtD3nb",
        "colab_type": "code",
        "colab": {}
      },
      "source": [
        "def quadratic_weighted_kappa(ytrue,ypreds):\n",
        "    return metrics.cohen_kappa_score(ytrue, ypreds,weights='quadratic')"
      ],
      "execution_count": 10,
      "outputs": []
    },
    {
      "cell_type": "code",
      "metadata": {
        "id": "RN0zDq8IBuUk",
        "colab_type": "code",
        "colab": {}
      },
      "source": [
        "def digitize_train(guess_lst,train_preds):\n",
        "    (x1,x2,x3,x4,x5,x6,x7) = list(guess_lst)   \n",
        "    res = []\n",
        "    for y in list(train_preds):\n",
        "        if y < x1:\n",
        "            res.append(1)\n",
        "        elif y < x2:\n",
        "            res.append(2)\n",
        "        elif y < x3:\n",
        "            res.append(3)\n",
        "        elif y < x4:\n",
        "            res.append(4)\n",
        "        elif y < x5:\n",
        "            res.append(5)\n",
        "        elif y < x6:\n",
        "            res.append(6)\n",
        "        elif y < x7:\n",
        "            res.append(7)\n",
        "        else: res.append(8)\n",
        "    return res"
      ],
      "execution_count": 11,
      "outputs": []
    },
    {
      "cell_type": "code",
      "metadata": {
        "id": "EEtkqsR8Fgdo",
        "colab_type": "code",
        "colab": {}
      },
      "source": [
        "def get_offsets_minimizing_train_preds_kappa(guess_lst):\n",
        "    res = digitize_train(guess_lst,train_preds)\n",
        "    return -quadratic_weighted_kappa(ytrain, res)  "
      ],
      "execution_count": 12,
      "outputs": []
    },
    {
      "cell_type": "code",
      "metadata": {
        "id": "lmOAxXyAFh_7",
        "colab_type": "code",
        "colab": {
          "base_uri": "https://localhost:8080/",
          "height": 70
        },
        "outputId": "5efcd828-504a-4c8a-9f55-818a8244cb93"
      },
      "source": [
        "%%time\n",
        "\"\"\"\n",
        "Here, we already have train predictions.\n",
        "For these train predictions, if we compare them with original train labels,\n",
        "we get some kappa value. But we want to change the train predictions such\n",
        "that when comparing this changed train prediction with original train labels\n",
        "we get better kappa.\n",
        "\n",
        "For that we use scipy function \"fmin_powell\". The function needs some initial\n",
        "guess so that it can give better offset next time. The default guess is 0.5.\n",
        "For 8 classes (1-8) we can start with (1.5,2.5,...,8.5) then use the result\n",
        "and run the function again.\n",
        "\n",
        "fmin_powell is costly function. It takes about 6 minutes to run.\n",
        "\n",
        "\"\"\";\n",
        "x0 = (1.5,2.9,3.1,4.5,5.5,6.1,7.1)    # initial guess \n",
        "\n",
        "#offsets = fmin_powell(get_offsets_minimizing_train_preds_kappa, x0, disp = True)\n",
        "\n",
        "offsets = [3.11768886, 3.5742616, 4.34722233, 4.91914813,\n",
        "           5.5290772,  6.16230137, 6.82661745]\n",
        "print(offsets)"
      ],
      "execution_count": 19,
      "outputs": [
        {
          "output_type": "stream",
          "text": [
            "[3.11768886, 3.5742616, 4.34722233, 4.91914813, 5.5290772, 6.16230137, 6.82661745]\n",
            "CPU times: user 0 ns, sys: 491 µs, total: 491 µs\n",
            "Wall time: 438 µs\n"
          ],
          "name": "stdout"
        }
      ]
    },
    {
      "cell_type": "markdown",
      "metadata": {
        "id": "zquXPFWYIYcd",
        "colab_type": "text"
      },
      "source": [
        "# Apply Offsets to Test Data"
      ]
    },
    {
      "cell_type": "code",
      "metadata": {
        "id": "mL7rvThF6vim",
        "colab_type": "code",
        "colab": {}
      },
      "source": [
        "def apply_offsets_to_test(offsets,test_preds):\n",
        "    (x1,x2,x3,x4,x5,x6,x7) = offsets  \n",
        "    res = []\n",
        "    for y in list(test_preds):\n",
        "        if y < x1:\n",
        "            res.append(1)\n",
        "        elif y < x2:\n",
        "            res.append(2)\n",
        "        elif y < x3:\n",
        "            res.append(3)\n",
        "        elif y < x4:\n",
        "            res.append(4)\n",
        "        elif y < x5:\n",
        "            res.append(5)\n",
        "        elif y < x6:\n",
        "            res.append(6)\n",
        "        elif y < x7:\n",
        "            res.append(7)\n",
        "        else: res.append(8)\n",
        "    return res\n",
        "\n",
        "final_test_preds = apply_offsets_to_test(offsets,test_preds)"
      ],
      "execution_count": 20,
      "outputs": []
    },
    {
      "cell_type": "markdown",
      "metadata": {
        "id": "oBxtknpjIdCK",
        "colab_type": "text"
      },
      "source": [
        "# Model evaluation after applying offset"
      ]
    },
    {
      "cell_type": "code",
      "metadata": {
        "id": "gT3uAqfuHebc",
        "colab_type": "code",
        "colab": {}
      },
      "source": [
        "kappa = quadratic_weighted_kappa(ytest,final_test_preds)"
      ],
      "execution_count": 21,
      "outputs": []
    },
    {
      "cell_type": "code",
      "metadata": {
        "id": "MbJQ0vHZGVQh",
        "colab_type": "code",
        "colab": {
          "base_uri": "https://localhost:8080/",
          "height": 34
        },
        "outputId": "c5f354cd-9c60-4042-eda7-6b0fece8e7e4"
      },
      "source": [
        "print('Test score using offset is :', kappa)\n",
        "# Test score using offset is : 0.6510844397754416"
      ],
      "execution_count": 22,
      "outputs": [
        {
          "output_type": "stream",
          "text": [
            "Test score using offset is : 0.6510844397754416\n"
          ],
          "name": "stdout"
        }
      ]
    },
    {
      "cell_type": "markdown",
      "metadata": {
        "id": "Ep0A_d4TGcUt",
        "colab_type": "text"
      },
      "source": [
        "# Time taken"
      ]
    },
    {
      "cell_type": "code",
      "metadata": {
        "id": "C6mv0n5PMLmf",
        "colab_type": "code",
        "colab": {
          "base_uri": "https://localhost:8080/",
          "height": 34
        },
        "outputId": "e8a86adf-a246-4b01-9b4f-544ffaafaaae"
      },
      "source": [
        "time_taken = time.time() - time_start_notebook\n",
        "h,m = divmod(time_taken,60*60)\n",
        "print('Time taken to run whole notebook: {:.0f} hr '\\\n",
        "      '{:.0f} min {:.0f} secs'.format(h, *divmod(m,60)))"
      ],
      "execution_count": 17,
      "outputs": [
        {
          "output_type": "stream",
          "text": [
            "Time taken to run whole notebook: 0 hr 9 min 6 secs\n"
          ],
          "name": "stdout"
        }
      ]
    }
  ]
}