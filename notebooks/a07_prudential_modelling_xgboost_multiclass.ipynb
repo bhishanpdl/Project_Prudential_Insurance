{
  "nbformat": 4,
  "nbformat_minor": 0,
  "metadata": {
    "colab": {
      "name": "a06_prudential_modelling_xgboost_multiclass.ipynb",
      "provenance": [],
      "collapsed_sections": []
    },
    "kernelspec": {
      "name": "python3",
      "display_name": "Python 3"
    }
  },
  "cells": [
    {
      "cell_type": "markdown",
      "metadata": {
        "id": "pmU7v5L4Y0eB",
        "colab_type": "text"
      },
      "source": [
        "<div class=\"alert alert-block alert-success\">\n",
        "<b>Kernel Author:</b>  <br>\n",
        "<a href=\"https://bhishanpdl.github.io/\" , target=\"_blank\">Bhishan Poudel, Ph.D Astrophysics</a> .\n",
        "</div>"
      ]
    },
    {
      "cell_type": "markdown",
      "metadata": {
        "id": "aSgj0OppY46P",
        "colab_type": "text"
      },
      "source": [
        "# Description\n",
        "In this project we will use multiclass classification to predict one of the 8 possible value of Response.\n",
        "\n",
        "The data is taken from Kaggle Prudential Life Insurance Project.\n",
        "\n",
        "About only 40% household in USA has life insurance policy. Based on different of applicant 8 different quotes are granted to applicants.\n",
        "\n",
        "Here category 8 has the highest counts, I assume it the quote that is granted.\n",
        "```\n",
        "Records: 60k\n",
        "Features: 127\n",
        "Target: Response (has 8 categories, 1-8)\n",
        "\n",
        "```\n",
        "\n",
        "Features:\n",
        "```\n",
        "1 Misc             : Age ht wt bmi              4\n",
        "2 Product Info     : Product_Info_1 to 7        7\n",
        "3 Employment Info  : Employment_Info_1 to 6     6\n",
        "4 Insured Info     : InsuredInfo_1 to 7         7\n",
        "5 Insurance History: Insurance_History_1 to 9   9\n",
        "6 Family History   : Family_Hist_1 to 5         5\n",
        "7 Medical History  : Medical_History_1 to 41    41\n",
        "8 Medical Keywords : Medical_Keyword_1 to 48    48\n",
        "Target: Response                                1\n",
        "ID    : ID                                      1\n",
        "---------------------------------------------------\n",
        "Total Features: 127\n",
        "Dependent Variable: 1 (Response)\n",
        "```\n",
        "\n",
        "Method Used:\n",
        "- XGBoost\n",
        "\n",
        "Metric Used:\n",
        "- Weighted Quadratic Kappa (cohehs kappa with weight equals quadratic)"
      ]
    },
    {
      "cell_type": "markdown",
      "metadata": {
        "id": "QB4VFyugZO3S",
        "colab_type": "text"
      },
      "source": [
        "# Imports"
      ]
    },
    {
      "cell_type": "code",
      "metadata": {
        "id": "lOuVghmmY1-B",
        "colab_type": "code",
        "colab": {}
      },
      "source": [
        "%%capture\n",
        "# capture will not print in notebook\n",
        "\n",
        "import os\n",
        "import sys\n",
        "ENV_COLAB = 'google.colab' in sys.modules\n",
        "\n",
        "if ENV_COLAB:\n",
        "    ### mount google drive\n",
        "    from google.colab import drive\n",
        "    drive.mount('/content/drive')\n",
        "\n",
        "    ### load the data dir\n",
        "    dat_dir = 'drive/My Drive/Colab Notebooks/data/'\n",
        "    sys.path.append(dat_dir)\n",
        "\n",
        "    ### Image dir\n",
        "    img_dir = 'drive/My Drive/Colab Notebooks/images/'\n",
        "    if not os.path.isdir(img_dir): os.makedirs(img_dir)\n",
        "    sys.path.append(img_dir)\n",
        "\n",
        "    ### Output dir\n",
        "    out_dir = 'drive/My Drive/Colab Notebooks/outputs/'\n",
        "    if not os.path.isdir(out_dir): os.makedirs(out_dir)\n",
        "    sys.path.append(out_dir)\n",
        "\n",
        "    ### Also install my custom module\n",
        "    module_dir = 'drive/My Drive/Colab Notebooks/Bhishan_Modules/' \n",
        "    sys.path.append(module_dir)\n",
        "    !cd drive/My Drive/Colab Notebooks/Bhishan_Modules/\n",
        "    !pip install -e bhishan\n",
        "    !cd -\n",
        "    import bhishan\n",
        "    from bhishan import bp\n",
        "\n",
        "    ## upgrade\n",
        "    !pip install -U xgboost\n",
        "\n",
        "    #### print\n",
        "    print('Environment: Google Colaboratory.')\n",
        "\n",
        "# NOTE: If we update modules in gcolab, we need to restart runtime."
      ],
      "execution_count": null,
      "outputs": []
    },
    {
      "cell_type": "code",
      "metadata": {
        "id": "MnwYMwzLY-Rj",
        "colab_type": "code",
        "colab": {
          "base_uri": "https://localhost:8080/",
          "height": 34
        },
        "outputId": "221baab7-78f9-4313-8091-1b268006421e"
      },
      "source": [
        "import time\n",
        "import numpy as np\n",
        "import pandas as pd\n",
        "import seaborn as sns\n",
        "import os\n",
        "import json\n",
        "\n",
        "from tqdm import tqdm_notebook as tqdm\n",
        "import matplotlib.pyplot as plt\n",
        "\n",
        "%matplotlib inline\n",
        "%config InlineBackend.figure_format = 'retina'\n",
        "plt.style.use('ggplot') \n",
        "\n",
        "# random state\n",
        "SEED=100\n",
        "\n",
        "home = os.path.expanduser('~')\n",
        "\n",
        "[(x.__name__,x.__version__) for x in [np,pd,sns]]"
      ],
      "execution_count": null,
      "outputs": [
        {
          "output_type": "execute_result",
          "data": {
            "text/plain": [
              "[('numpy', '1.18.5'), ('pandas', '1.0.4'), ('seaborn', '0.10.1')]"
            ]
          },
          "metadata": {
            "tags": []
          },
          "execution_count": 2
        }
      ]
    },
    {
      "cell_type": "code",
      "metadata": {
        "id": "ke-a6RuxRZgV",
        "colab_type": "code",
        "colab": {
          "base_uri": "https://localhost:8080/",
          "height": 107
        },
        "outputId": "de5d917e-6d9a-4aff-d408-39c6bbfb4b60"
      },
      "source": [
        "from sklearn.model_selection import train_test_split\n",
        "from sklearn.model_selection import StratifiedKFold\n",
        "\n",
        "from sklearn.pipeline import Pipeline\n",
        "from sklearn.preprocessing import StandardScaler\n",
        "\n",
        "\n",
        "from mlxtend.feature_selection import ColumnSelector\n",
        "\n",
        "from sklearn import metrics\n",
        "\n",
        "from sklearn.metrics import make_scorer\n",
        "from sklearn.model_selection import cross_val_score"
      ],
      "execution_count": null,
      "outputs": [
        {
          "output_type": "stream",
          "text": [
            "/usr/local/lib/python3.6/dist-packages/sklearn/externals/joblib/__init__.py:15: FutureWarning:\n",
            "\n",
            "sklearn.externals.joblib is deprecated in 0.21 and will be removed in 0.23. Please import this functionality directly from joblib, which can be installed with: pip install joblib. If this warning is raised when loading pickled models, you may need to re-serialize those models with scikit-learn 0.21+.\n",
            "\n"
          ],
          "name": "stderr"
        }
      ]
    },
    {
      "cell_type": "code",
      "metadata": {
        "id": "RyD2gP4XRotG",
        "colab_type": "code",
        "colab": {
          "base_uri": "https://localhost:8080/",
          "height": 34
        },
        "outputId": "8ec568bf-f82f-460a-b880-2a1dce253e80"
      },
      "source": [
        "import xgboost as xgb\n",
        "\n",
        "xgb.__version__"
      ],
      "execution_count": null,
      "outputs": [
        {
          "output_type": "execute_result",
          "data": {
            "text/plain": [
              "'1.1.1'"
            ]
          },
          "metadata": {
            "tags": []
          },
          "execution_count": 4
        }
      ]
    },
    {
      "cell_type": "markdown",
      "metadata": {
        "id": "r9PwigegZRyR",
        "colab_type": "text"
      },
      "source": [
        "# Load the data"
      ]
    },
    {
      "cell_type": "code",
      "metadata": {
        "id": "066yNf5_ZIbq",
        "colab_type": "code",
        "colab": {
          "base_uri": "https://localhost:8080/",
          "height": 52
        },
        "outputId": "e0d657fa-5140-4a6e-8ad2-51547713fc2b"
      },
      "source": [
        "def data_cleaning(df):\n",
        "    df = pd.read_csv('https://github.com/bhishanpdl/Datasets/blob/master/Prudential_Insurance/raw/train.csv.zip?raw=true',compression='zip')\n",
        "    df = df.copy()\n",
        "    columns_to_drop = ['Id', 'Medical_History_10','Medical_History_24']\n",
        "    df = df.drop(columns_to_drop,axis=1)\n",
        "    df['Product_Info_2_char'] = df.Product_Info_2.str[0]\n",
        "    df['Product_Info_2_num'] = df.Product_Info_2.str[1]\n",
        "\n",
        "    # factorize categorical variables\n",
        "    df['Product_Info_2'] = pd.factorize(df['Product_Info_2'])[0]\n",
        "    df['Product_Info_2_char'] = pd.factorize(df['Product_Info_2_char'])[0]\n",
        "    df['Product_Info_2_num'] = pd.factorize(df['Product_Info_2_num'])[0]\n",
        "\n",
        "    df['BMI_Age'] = df['BMI'] * df['Ins_Age']\n",
        "\n",
        "    med_keyword_columns = df.columns[df.columns.str.startswith('Medical_Keyword_')]\n",
        "    df['Med_Keywords_Count'] = df[med_keyword_columns].sum(axis=1)\n",
        "    df = df.fillna(-1)\n",
        "\n",
        "    return df\n",
        "\n",
        "df = data_cleaning(df)\n",
        "print(df.shape)\n",
        "df.isna().sum().sum(), df.sum().sum()"
      ],
      "execution_count": 26,
      "outputs": [
        {
          "output_type": "stream",
          "text": [
            "(59381, 129)\n"
          ],
          "name": "stdout"
        },
        {
          "output_type": "execute_result",
          "data": {
            "text/plain": [
              "(0, 26897356.818315115)"
            ]
          },
          "metadata": {
            "tags": []
          },
          "execution_count": 26
        }
      ]
    },
    {
      "cell_type": "code",
      "metadata": {
        "id": "dG-Ro___pLIm",
        "colab_type": "code",
        "colab": {}
      },
      "source": [
        "def get_already_cleaned_data():\n",
        "    file_data = out_dir + 'Prudential/' + 'clean_data.csv'\n",
        "    df = pd.read_csv(file_data,compression='zip')\n",
        "    df = df.drop('Id',axis=1)\n",
        "    file_features = out_dir + 'Prudential/'+'categorical_features.json'\n",
        "    cols_cat = json.load(open(file_features))\n",
        "    df = pd.get_dummies(df,columns=cols_cat,drop_first=True)\n",
        "\n",
        "    return df\n",
        "\n",
        "# this gives better result. \n",
        "# df = get_already_cleaned_data()\n",
        "# print(df.shape)\n",
        "# df.isna().sum().sum(), df.sum().sum()"
      ],
      "execution_count": 27,
      "outputs": []
    },
    {
      "cell_type": "code",
      "metadata": {
        "id": "LGuwDudxbgRo",
        "colab_type": "code",
        "colab": {
          "base_uri": "https://localhost:8080/",
          "height": 34
        },
        "outputId": "1209899e-a962-4aaf-dfeb-0d7c45a21cdc"
      },
      "source": [
        "# make sure all values are number and there are no nans\n",
        "df.isna().sum().sum()"
      ],
      "execution_count": 28,
      "outputs": [
        {
          "output_type": "execute_result",
          "data": {
            "text/plain": [
              "0"
            ]
          },
          "metadata": {
            "tags": []
          },
          "execution_count": 28
        }
      ]
    },
    {
      "cell_type": "markdown",
      "metadata": {
        "id": "dQMoFYd-cVK2",
        "colab_type": "text"
      },
      "source": [
        "# Train-test Split with Stratify"
      ]
    },
    {
      "cell_type": "code",
      "metadata": {
        "id": "0sCGB7MqdTgD",
        "colab_type": "code",
        "colab": {
          "base_uri": "https://localhost:8080/",
          "height": 387
        },
        "outputId": "6cc8c8c8-3b59-4850-c2cb-b6846594c093"
      },
      "source": [
        "from sklearn.model_selection import train_test_split\n",
        "\n",
        "target = 'Response'\n",
        "\n",
        "df_Xtrain_orig, df_Xtest, ser_ytrain_orig, ser_ytest = train_test_split(\n",
        "    df.drop(target,axis=1), df[target],\n",
        "    test_size=0.2, random_state=SEED, stratify=df[target])\n",
        "\n",
        "df_Xtrain, df_Xvalid, ser_ytrain, ser_yvalid = train_test_split(\n",
        "    df_Xtrain_orig, ser_ytrain_orig,\n",
        "    test_size=0.2, random_state=SEED, stratify=ser_ytrain_orig)\n",
        "\n",
        "ytrain = ser_ytrain.to_numpy().ravel()\n",
        "ytest = ser_ytest.to_numpy().ravel()\n",
        "\n",
        "print(f\"df             : {df.shape}\")\n",
        "\n",
        "print(f\"\\ndf_Xtrain_orig : {df_Xtrain_orig.shape}\")\n",
        "print(f\"ser_ytrain_orig: {ser_ytrain_orig.shape}\")\n",
        "\n",
        "print(f\"\\ndf_Xtrain      : {df_Xtrain.shape}\")\n",
        "print(f\"ser_ytrain     : {ser_ytrain.shape}\")\n",
        "\n",
        "print(f\"\\ndf_Xvalid      : {df_Xvalid.shape}\")\n",
        "print(f\"ser_yvalid     : {ser_yvalid.shape}\")\n",
        "\n",
        "print(f\"\\ndf_Xtest       : {df_Xtest.shape}\")\n",
        "print(f\"ser_ytest      : {ser_ytest.shape}\")\n",
        "\n",
        "df_Xtrain_orig.head(2)"
      ],
      "execution_count": 29,
      "outputs": [
        {
          "output_type": "stream",
          "text": [
            "df             : (59381, 129)\n",
            "\n",
            "df_Xtrain_orig : (47504, 128)\n",
            "ser_ytrain_orig: (47504,)\n",
            "\n",
            "df_Xtrain      : (38003, 128)\n",
            "ser_ytrain     : (38003,)\n",
            "\n",
            "df_Xvalid      : (9501, 128)\n",
            "ser_yvalid     : (9501,)\n",
            "\n",
            "df_Xtest       : (11877, 128)\n",
            "ser_ytest      : (11877,)\n"
          ],
          "name": "stdout"
        },
        {
          "output_type": "execute_result",
          "data": {
            "text/html": [
              "<div>\n",
              "<style scoped>\n",
              "    .dataframe tbody tr th:only-of-type {\n",
              "        vertical-align: middle;\n",
              "    }\n",
              "\n",
              "    .dataframe tbody tr th {\n",
              "        vertical-align: top;\n",
              "    }\n",
              "\n",
              "    .dataframe thead th {\n",
              "        text-align: right;\n",
              "    }\n",
              "</style>\n",
              "<table border=\"1\" class=\"dataframe\">\n",
              "  <thead>\n",
              "    <tr style=\"text-align: right;\">\n",
              "      <th></th>\n",
              "      <th>Product_Info_1</th>\n",
              "      <th>Product_Info_2</th>\n",
              "      <th>Product_Info_3</th>\n",
              "      <th>Product_Info_4</th>\n",
              "      <th>Product_Info_5</th>\n",
              "      <th>Product_Info_6</th>\n",
              "      <th>Product_Info_7</th>\n",
              "      <th>Ins_Age</th>\n",
              "      <th>Ht</th>\n",
              "      <th>Wt</th>\n",
              "      <th>BMI</th>\n",
              "      <th>Employment_Info_1</th>\n",
              "      <th>Employment_Info_2</th>\n",
              "      <th>Employment_Info_3</th>\n",
              "      <th>Employment_Info_4</th>\n",
              "      <th>Employment_Info_5</th>\n",
              "      <th>Employment_Info_6</th>\n",
              "      <th>InsuredInfo_1</th>\n",
              "      <th>InsuredInfo_2</th>\n",
              "      <th>InsuredInfo_3</th>\n",
              "      <th>InsuredInfo_4</th>\n",
              "      <th>InsuredInfo_5</th>\n",
              "      <th>InsuredInfo_6</th>\n",
              "      <th>InsuredInfo_7</th>\n",
              "      <th>Insurance_History_1</th>\n",
              "      <th>Insurance_History_2</th>\n",
              "      <th>Insurance_History_3</th>\n",
              "      <th>Insurance_History_4</th>\n",
              "      <th>Insurance_History_5</th>\n",
              "      <th>Insurance_History_7</th>\n",
              "      <th>Insurance_History_8</th>\n",
              "      <th>Insurance_History_9</th>\n",
              "      <th>Family_Hist_1</th>\n",
              "      <th>Family_Hist_2</th>\n",
              "      <th>Family_Hist_3</th>\n",
              "      <th>Family_Hist_4</th>\n",
              "      <th>Family_Hist_5</th>\n",
              "      <th>Medical_History_1</th>\n",
              "      <th>Medical_History_2</th>\n",
              "      <th>Medical_History_3</th>\n",
              "      <th>...</th>\n",
              "      <th>Medical_Keyword_13</th>\n",
              "      <th>Medical_Keyword_14</th>\n",
              "      <th>Medical_Keyword_15</th>\n",
              "      <th>Medical_Keyword_16</th>\n",
              "      <th>Medical_Keyword_17</th>\n",
              "      <th>Medical_Keyword_18</th>\n",
              "      <th>Medical_Keyword_19</th>\n",
              "      <th>Medical_Keyword_20</th>\n",
              "      <th>Medical_Keyword_21</th>\n",
              "      <th>Medical_Keyword_22</th>\n",
              "      <th>Medical_Keyword_23</th>\n",
              "      <th>Medical_Keyword_24</th>\n",
              "      <th>Medical_Keyword_25</th>\n",
              "      <th>Medical_Keyword_26</th>\n",
              "      <th>Medical_Keyword_27</th>\n",
              "      <th>Medical_Keyword_28</th>\n",
              "      <th>Medical_Keyword_29</th>\n",
              "      <th>Medical_Keyword_30</th>\n",
              "      <th>Medical_Keyword_31</th>\n",
              "      <th>Medical_Keyword_32</th>\n",
              "      <th>Medical_Keyword_33</th>\n",
              "      <th>Medical_Keyword_34</th>\n",
              "      <th>Medical_Keyword_35</th>\n",
              "      <th>Medical_Keyword_36</th>\n",
              "      <th>Medical_Keyword_37</th>\n",
              "      <th>Medical_Keyword_38</th>\n",
              "      <th>Medical_Keyword_39</th>\n",
              "      <th>Medical_Keyword_40</th>\n",
              "      <th>Medical_Keyword_41</th>\n",
              "      <th>Medical_Keyword_42</th>\n",
              "      <th>Medical_Keyword_43</th>\n",
              "      <th>Medical_Keyword_44</th>\n",
              "      <th>Medical_Keyword_45</th>\n",
              "      <th>Medical_Keyword_46</th>\n",
              "      <th>Medical_Keyword_47</th>\n",
              "      <th>Medical_Keyword_48</th>\n",
              "      <th>Product_Info_2_char</th>\n",
              "      <th>Product_Info_2_num</th>\n",
              "      <th>BMI_Age</th>\n",
              "      <th>Med_Keywords_Count</th>\n",
              "    </tr>\n",
              "  </thead>\n",
              "  <tbody>\n",
              "    <tr>\n",
              "      <th>616</th>\n",
              "      <td>1</td>\n",
              "      <td>10</td>\n",
              "      <td>26</td>\n",
              "      <td>0.230769</td>\n",
              "      <td>2</td>\n",
              "      <td>3</td>\n",
              "      <td>1</td>\n",
              "      <td>0.059701</td>\n",
              "      <td>0.727273</td>\n",
              "      <td>0.225941</td>\n",
              "      <td>0.341911</td>\n",
              "      <td>0.03</td>\n",
              "      <td>9</td>\n",
              "      <td>1</td>\n",
              "      <td>0.0</td>\n",
              "      <td>2</td>\n",
              "      <td>0.015</td>\n",
              "      <td>1</td>\n",
              "      <td>2</td>\n",
              "      <td>3</td>\n",
              "      <td>3</td>\n",
              "      <td>1</td>\n",
              "      <td>1</td>\n",
              "      <td>1</td>\n",
              "      <td>2</td>\n",
              "      <td>1</td>\n",
              "      <td>1</td>\n",
              "      <td>3</td>\n",
              "      <td>-1.000000</td>\n",
              "      <td>3</td>\n",
              "      <td>2</td>\n",
              "      <td>3</td>\n",
              "      <td>3</td>\n",
              "      <td>0.376812</td>\n",
              "      <td>-1.0</td>\n",
              "      <td>0.366197</td>\n",
              "      <td>-1.000000</td>\n",
              "      <td>-1.0</td>\n",
              "      <td>162</td>\n",
              "      <td>2</td>\n",
              "      <td>...</td>\n",
              "      <td>0</td>\n",
              "      <td>0</td>\n",
              "      <td>0</td>\n",
              "      <td>0</td>\n",
              "      <td>0</td>\n",
              "      <td>0</td>\n",
              "      <td>0</td>\n",
              "      <td>0</td>\n",
              "      <td>0</td>\n",
              "      <td>0</td>\n",
              "      <td>0</td>\n",
              "      <td>0</td>\n",
              "      <td>0</td>\n",
              "      <td>0</td>\n",
              "      <td>0</td>\n",
              "      <td>0</td>\n",
              "      <td>0</td>\n",
              "      <td>0</td>\n",
              "      <td>0</td>\n",
              "      <td>0</td>\n",
              "      <td>0</td>\n",
              "      <td>0</td>\n",
              "      <td>0</td>\n",
              "      <td>0</td>\n",
              "      <td>0</td>\n",
              "      <td>0</td>\n",
              "      <td>0</td>\n",
              "      <td>0</td>\n",
              "      <td>0</td>\n",
              "      <td>0</td>\n",
              "      <td>0</td>\n",
              "      <td>0</td>\n",
              "      <td>0</td>\n",
              "      <td>0</td>\n",
              "      <td>0</td>\n",
              "      <td>0</td>\n",
              "      <td>1</td>\n",
              "      <td>0</td>\n",
              "      <td>0.020413</td>\n",
              "      <td>0</td>\n",
              "    </tr>\n",
              "    <tr>\n",
              "      <th>3239</th>\n",
              "      <td>1</td>\n",
              "      <td>0</td>\n",
              "      <td>26</td>\n",
              "      <td>0.230769</td>\n",
              "      <td>2</td>\n",
              "      <td>3</td>\n",
              "      <td>1</td>\n",
              "      <td>0.417910</td>\n",
              "      <td>0.654545</td>\n",
              "      <td>0.209205</td>\n",
              "      <td>0.376858</td>\n",
              "      <td>0.09</td>\n",
              "      <td>14</td>\n",
              "      <td>1</td>\n",
              "      <td>0.0</td>\n",
              "      <td>2</td>\n",
              "      <td>0.600</td>\n",
              "      <td>1</td>\n",
              "      <td>2</td>\n",
              "      <td>8</td>\n",
              "      <td>3</td>\n",
              "      <td>1</td>\n",
              "      <td>2</td>\n",
              "      <td>1</td>\n",
              "      <td>2</td>\n",
              "      <td>1</td>\n",
              "      <td>3</td>\n",
              "      <td>1</td>\n",
              "      <td>0.000333</td>\n",
              "      <td>1</td>\n",
              "      <td>3</td>\n",
              "      <td>2</td>\n",
              "      <td>2</td>\n",
              "      <td>0.710145</td>\n",
              "      <td>-1.0</td>\n",
              "      <td>-1.000000</td>\n",
              "      <td>0.419643</td>\n",
              "      <td>3.0</td>\n",
              "      <td>413</td>\n",
              "      <td>2</td>\n",
              "      <td>...</td>\n",
              "      <td>0</td>\n",
              "      <td>0</td>\n",
              "      <td>1</td>\n",
              "      <td>0</td>\n",
              "      <td>0</td>\n",
              "      <td>0</td>\n",
              "      <td>0</td>\n",
              "      <td>0</td>\n",
              "      <td>0</td>\n",
              "      <td>0</td>\n",
              "      <td>0</td>\n",
              "      <td>0</td>\n",
              "      <td>0</td>\n",
              "      <td>0</td>\n",
              "      <td>0</td>\n",
              "      <td>1</td>\n",
              "      <td>0</td>\n",
              "      <td>0</td>\n",
              "      <td>0</td>\n",
              "      <td>0</td>\n",
              "      <td>0</td>\n",
              "      <td>0</td>\n",
              "      <td>0</td>\n",
              "      <td>0</td>\n",
              "      <td>0</td>\n",
              "      <td>0</td>\n",
              "      <td>0</td>\n",
              "      <td>0</td>\n",
              "      <td>0</td>\n",
              "      <td>0</td>\n",
              "      <td>0</td>\n",
              "      <td>0</td>\n",
              "      <td>0</td>\n",
              "      <td>0</td>\n",
              "      <td>0</td>\n",
              "      <td>0</td>\n",
              "      <td>0</td>\n",
              "      <td>0</td>\n",
              "      <td>0.157493</td>\n",
              "      <td>2</td>\n",
              "    </tr>\n",
              "  </tbody>\n",
              "</table>\n",
              "<p>2 rows × 128 columns</p>\n",
              "</div>"
            ],
            "text/plain": [
              "      Product_Info_1  Product_Info_2  ...   BMI_Age  Med_Keywords_Count\n",
              "616                1              10  ...  0.020413                   0\n",
              "3239               1               0  ...  0.157493                   2\n",
              "\n",
              "[2 rows x 128 columns]"
            ]
          },
          "metadata": {
            "tags": []
          },
          "execution_count": 29
        }
      ]
    },
    {
      "cell_type": "code",
      "metadata": {
        "id": "c74kddn0R03g",
        "colab_type": "code",
        "colab": {}
      },
      "source": [
        "# dtrain = xgb.DMatrix(df_Xtrain, label=ser_ytrain)\n",
        "# dvalid = xgb.DMatrix(df_Xvalid, label=ser_yvalid)\n",
        "# dtest = xgb.DMatrix(df_Xtest, label=ser_ytest)"
      ],
      "execution_count": 30,
      "outputs": []
    },
    {
      "cell_type": "markdown",
      "metadata": {
        "id": "SBvntjMcnnZm",
        "colab_type": "text"
      },
      "source": [
        "# Evaluation Metric"
      ]
    },
    {
      "cell_type": "code",
      "metadata": {
        "id": "xGmT2kLFnpuu",
        "colab_type": "code",
        "colab": {}
      },
      "source": [
        "# https://www.kaggle.com/chenglongchen/customized-softkappa-loss-in-xgboost\n",
        "\n",
        "def softmax(score):\n",
        "    score = np.asarray(score, dtype=float)\n",
        "    score = np.exp(score-np.max(score))\n",
        "    score /= np.sum(score, axis=1)[:,np.newaxis]\n",
        "    return score\n",
        "\n",
        "def evalerror(preds, dtrain):\n",
        "    # xgboost multiclass gives 0,1,2,3 but our labels are 1 to 8.\n",
        "    labels = dtrain.get_label() + 1 # we need to add 1\n",
        "    preds = softmax(preds) # class probability\n",
        "    pred_labels = np.argmax(preds, axis=1) + 1\n",
        "    # xgboost only miminimizes loss function\n",
        "    kappa = - metrics.cohen_kappa_score(labels, pred_labels,weights='quadratic')\n",
        "    return 'kappa', kappa"
      ],
      "execution_count": 31,
      "outputs": []
    },
    {
      "cell_type": "markdown",
      "metadata": {
        "id": "OIWQJS1YZjzw",
        "colab_type": "text"
      },
      "source": [
        "# Modelling xgboost classifier\n",
        "\n",
        "**NOTE**  \n",
        "Unlike CatBoost or LGBM, XGBoost cannot handle categorical features by itself, it only accepts numerical values similar to Random Forest. Therefore one has to perform various encodings like label encoding, mean encoding or one-hot encoding before supplying categorical data to XGBoost.\n",
        "\n",
        "- https://xgboost.readthedocs.io/en/latest/parameter.html#learning-task-parameters\n",
        "- https://xgboost.readthedocs.io/en/latest/tutorials/custom_metric_obj.html\n",
        "\n",
        "Multiclass classification:\n",
        "```\n",
        "“multi:softmax” –set XGBoost to do multiclass classification using the softmax objective, you also need to set num_class(number of classes)\n",
        "\n",
        "“multi:softprob” –same as softmax, but output a vector of ndata * nclass, which can be further reshaped to ndata, nclass matrix. The result contains predicted probability of each data point belonging to each class.\n",
        "\n",
        "```"
      ]
    },
    {
      "cell_type": "code",
      "metadata": {
        "id": "DZa_wP7qAImQ",
        "colab_type": "code",
        "colab": {
          "base_uri": "https://localhost:8080/",
          "height": 34
        },
        "outputId": "3c0dab64-f9b6-452d-8177-799dedfadcec"
      },
      "source": [
        "import xgboost\n",
        "from xgboost import XGBClassifier\n",
        "\n",
        "xgboost.__version__"
      ],
      "execution_count": 32,
      "outputs": [
        {
          "output_type": "execute_result",
          "data": {
            "text/plain": [
              "'1.1.1'"
            ]
          },
          "metadata": {
            "tags": []
          },
          "execution_count": 32
        }
      ]
    },
    {
      "cell_type": "code",
      "metadata": {
        "id": "PULCD_UPALQR",
        "colab_type": "code",
        "colab": {
          "base_uri": "https://localhost:8080/",
          "height": 176
        },
        "outputId": "e2b86e6e-d946-4e7f-dca8-adf96e92d0a6"
      },
      "source": [
        "clf_xgb = XGBClassifier(objective= 'multi:softprob', random_state=SEED,n_jobs=-1)\n",
        "clf_xgb"
      ],
      "execution_count": 33,
      "outputs": [
        {
          "output_type": "execute_result",
          "data": {
            "text/plain": [
              "XGBClassifier(base_score=None, booster=None, colsample_bylevel=None,\n",
              "              colsample_bynode=None, colsample_bytree=None, gamma=None,\n",
              "              gpu_id=None, importance_type='gain', interaction_constraints=None,\n",
              "              learning_rate=None, max_delta_step=None, max_depth=None,\n",
              "              min_child_weight=None, missing=nan, monotone_constraints=None,\n",
              "              n_estimators=100, n_jobs=-1, num_parallel_tree=None,\n",
              "              objective='multi:softprob', random_state=100, reg_alpha=None,\n",
              "              reg_lambda=None, scale_pos_weight=None, subsample=None,\n",
              "              tree_method=None, validate_parameters=None, verbosity=None)"
            ]
          },
          "metadata": {
            "tags": []
          },
          "execution_count": 33
        }
      ]
    },
    {
      "cell_type": "code",
      "metadata": {
        "id": "PBcDB-s3veB4",
        "colab_type": "code",
        "colab": {
          "base_uri": "https://localhost:8080/",
          "height": 52
        },
        "outputId": "79081edb-9059-4696-e1ca-04ddf36fba8b"
      },
      "source": [
        "%%time\n",
        "\n",
        "def run_default():\n",
        "    clf_xgb = XGBClassifier(objective= 'multi:softprob', random_state=SEED,n_jobs=-1)\n",
        "    # default eval metric\n",
        "    clf_xgb.fit(df_Xtrain,ser_ytrain,\n",
        "                eval_set=[(df_Xvalid,ser_yvalid)],\n",
        "                early_stopping_rounds=10,\n",
        "                )\n",
        "    ypreds = clf_xgb.predict(df_Xtest)\n",
        "    score = metrics.cohen_kappa_score(ytest,ypreds,weights='quadratic')\n",
        "    print(score)\n",
        "\n",
        "# run_default()\n",
        "\"\"\"\n",
        "For simple cleaned data\n",
        "=========================\n",
        "0.5377897181694622\n",
        "CPU times: user 1min 13s, sys: 50.9 ms, total: 1min 13s\n",
        "Wall time: 1min 13s\n",
        "\n",
        "For already cleaned data\n",
        "========================\n",
        "\n",
        "0.5438646999324421\n",
        "CPU times: user 7min 15s, sys: 245 ms, total: 7min 15s\n",
        "Wall time: 7min 15s\n",
        "\"\"\";"
      ],
      "execution_count": 36,
      "outputs": [
        {
          "output_type": "stream",
          "text": [
            "CPU times: user 6 µs, sys: 0 ns, total: 6 µs\n",
            "Wall time: 9.54 µs\n"
          ],
          "name": "stdout"
        }
      ]
    },
    {
      "cell_type": "code",
      "metadata": {
        "id": "2gg_dqKIAf_n",
        "colab_type": "code",
        "colab": {
          "base_uri": "https://localhost:8080/",
          "height": 52
        },
        "outputId": "025c24b3-464e-4e4a-b4f1-93914df26600"
      },
      "source": [
        "%%time\n",
        "\n",
        "def run_custom():\n",
        "    clf_xgb = XGBClassifier(objective= 'multi:softprob', random_state=SEED,n_jobs=-1,\n",
        "                            verbose=10)\n",
        "    clf_xgb.fit(df_Xtrain,ser_ytrain,\n",
        "                eval_set=[(df_Xvalid,ser_yvalid)],\n",
        "                eval_metric=evalerror,\n",
        "                early_stopping_rounds=10,\n",
        "                )\n",
        "    ypreds = clf_xgb.predict(df_Xtest)\n",
        "    score = metrics.cohen_kappa_score(ytest,ypreds,weights='quadratic')\n",
        "    print(score)\n",
        "\"\"\"\n",
        "For simple clean data\n",
        "=========================\n",
        "0.5530053047703208\n",
        "CPU times: user 2min 33s, sys: 115 ms, total: 2min 33s\n",
        "Wall time: 2min 33s\n",
        "\n",
        "For already cleaned data\n",
        "========================\n",
        "kappa =  0.5407784634778012\n",
        "\n",
        "\"\"\";\n",
        "\n",
        "# run_custom()"
      ],
      "execution_count": 37,
      "outputs": [
        {
          "output_type": "stream",
          "text": [
            "CPU times: user 4 µs, sys: 0 ns, total: 4 µs\n",
            "Wall time: 7.39 µs\n"
          ],
          "name": "stdout"
        }
      ]
    },
    {
      "cell_type": "code",
      "metadata": {
        "id": "cXJQf0Ra91Hp",
        "colab_type": "code",
        "colab": {}
      },
      "source": [
        "\"\"\"\n",
        "For simple cleaned data\n",
        "======================================================\n",
        "objectiveFunction   evalMetric     resultKappa\n",
        "softmax             default    0.5377897181694622\n",
        "softmax             custom     0.5530053047703208\n",
        "\n",
        "Here, custom metric gives the best result.\n",
        "\n",
        "\n",
        "For already cleaned data\n",
        "======================================================\n",
        "objectiveFunction   evalMetric     resultKappa\n",
        "softmax             default    0.5438646999324421\n",
        "softmax             custom     0.5407784634778012     \n",
        "\n",
        "Surprisingly, the default metric gives better validation result. It might be\n",
        "due to our objective function is softmax but eval metric is kappa instead of\n",
        "default eval metric provided by xgboost.\n",
        "\n",
        "\n",
        "\n",
        "I have got different results for using custom/default metric and\n",
        "simple/detail data cleaning methods.\n",
        "\n",
        "We can not determine which features are important until we do further\n",
        "feature engineering. Also, we need to tune the hyperparameters.\n",
        "\n",
        "\"\"\";"
      ],
      "execution_count": 38,
      "outputs": []
    },
    {
      "cell_type": "code",
      "metadata": {
        "id": "Jp52KC9dRQoD",
        "colab_type": "code",
        "colab": {}
      },
      "source": [
        ""
      ],
      "execution_count": null,
      "outputs": []
    }
  ]
}