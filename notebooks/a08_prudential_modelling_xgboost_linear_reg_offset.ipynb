{
  "nbformat": 4,
  "nbformat_minor": 0,
  "metadata": {
    "colab": {
      "name": "a07_prudential_modelling_xgboost_linear_reg_offset.ipynb",
      "provenance": [],
      "collapsed_sections": []
    },
    "kernelspec": {
      "name": "python3",
      "display_name": "Python 3"
    }
  },
  "cells": [
    {
      "cell_type": "markdown",
      "metadata": {
        "id": "pmU7v5L4Y0eB",
        "colab_type": "text"
      },
      "source": [
        "<div class=\"alert alert-block alert-success\">\n",
        "<b>Kernel Author:</b>  <br>\n",
        "<a href=\"https://bhishanpdl.github.io/\" , target=\"_blank\">Bhishan Poudel, Ph.D Astrophysics</a> .\n",
        "</div>"
      ]
    },
    {
      "cell_type": "markdown",
      "metadata": {
        "id": "aSgj0OppY46P",
        "colab_type": "text"
      },
      "source": [
        "# Description\n",
        "In this project we will use multiclass classification to predict one of the 8 possible value of Response.\n",
        "\n",
        "The data is taken from Kaggle Prudential Life Insurance Project.\n",
        "\n",
        "About only 40% household in USA has life insurance policy. Based on different of applicant 8 different quotes are granted to applicants.\n",
        "\n",
        "Here category 8 has the highest counts, I assume it the quote that is granted.\n",
        "```\n",
        "Records: 60k\n",
        "Features: 127\n",
        "Target: Response (has 8 categories, 1-8)\n",
        "\n",
        "```\n",
        "\n",
        "Features:\n",
        "```\n",
        "1 Misc             : Age ht wt bmi              4\n",
        "2 Product Info     : Product_Info_1 to 7        7\n",
        "3 Employment Info  : Employment_Info_1 to 6     6\n",
        "4 Insured Info     : InsuredInfo_1 to 7         7\n",
        "5 Insurance History: Insurance_History_1 to 9   9\n",
        "6 Family History   : Family_Hist_1 to 5         5\n",
        "7 Medical History  : Medical_History_1 to 41    41\n",
        "8 Medical Keywords : Medical_Keyword_1 to 48    48\n",
        "Target: Response                                1\n",
        "ID    : ID                                      1\n",
        "---------------------------------------------------\n",
        "Total Features: 127\n",
        "Dependent Variable: 1 (Response)\n",
        "```\n",
        "\n",
        "Method Used:\n",
        "- XGBoost\n",
        "\n",
        "Metric Used:\n",
        "- Weighted Quadratic Kappa (cohehs kappa with weight equals quadratic)\n",
        "\n",
        "**References**  \n",
        "- https://www.kaggle.com/zeroblue/xgboost-with-optimized-offsets"
      ]
    },
    {
      "cell_type": "markdown",
      "metadata": {
        "id": "QB4VFyugZO3S",
        "colab_type": "text"
      },
      "source": [
        "# Imports"
      ]
    },
    {
      "cell_type": "code",
      "metadata": {
        "id": "lOuVghmmY1-B",
        "colab_type": "code",
        "colab": {}
      },
      "source": [
        "%%capture\n",
        "# capture will not print in notebook\n",
        "\n",
        "import os\n",
        "import sys\n",
        "ENV_COLAB = 'google.colab' in sys.modules\n",
        "\n",
        "if ENV_COLAB:\n",
        "    ### mount google drive\n",
        "    from google.colab import drive\n",
        "    drive.mount('/content/drive')\n",
        "\n",
        "    ### load the data dir\n",
        "    dat_dir = 'drive/My Drive/Colab Notebooks/data/'\n",
        "    sys.path.append(dat_dir)\n",
        "\n",
        "    ### Image dir\n",
        "    img_dir = 'drive/My Drive/Colab Notebooks/images/'\n",
        "    if not os.path.isdir(img_dir): os.makedirs(img_dir)\n",
        "    sys.path.append(img_dir)\n",
        "\n",
        "    ### Output dir\n",
        "    out_dir = 'drive/My Drive/Colab Notebooks/outputs/'\n",
        "    if not os.path.isdir(out_dir): os.makedirs(out_dir)\n",
        "    sys.path.append(out_dir)\n",
        "\n",
        "    ### Also install my custom module\n",
        "    module_dir = 'drive/My Drive/Colab Notebooks/Bhishan_Modules/' \n",
        "    sys.path.append(module_dir)\n",
        "    !cd drive/My Drive/Colab Notebooks/Bhishan_Modules/\n",
        "    !pip install -e bhishan\n",
        "    !cd -\n",
        "    import bhishan\n",
        "    from bhishan import bp\n",
        "\n",
        "    ## upgrade\n",
        "    !pip install -U xgboost\n",
        "\n",
        "    #### print\n",
        "    print('Environment: Google Colaboratory.')\n",
        "\n",
        "# NOTE: If we update modules in gcolab, we need to restart runtime."
      ],
      "execution_count": 1,
      "outputs": []
    },
    {
      "cell_type": "code",
      "metadata": {
        "id": "MnwYMwzLY-Rj",
        "colab_type": "code",
        "colab": {
          "base_uri": "https://localhost:8080/",
          "height": 34
        },
        "outputId": "a67ffde5-b4be-41bc-afe5-c671e54e89a8"
      },
      "source": [
        "import time\n",
        "import numpy as np\n",
        "import pandas as pd\n",
        "import seaborn as sns\n",
        "import os\n",
        "import json\n",
        "\n",
        "from tqdm import tqdm_notebook as tqdm\n",
        "import matplotlib.pyplot as plt\n",
        "\n",
        "%matplotlib inline\n",
        "%config InlineBackend.figure_format = 'retina'\n",
        "plt.style.use('ggplot') \n",
        "\n",
        "# random state\n",
        "SEED=100\n",
        "\n",
        "home = os.path.expanduser('~')\n",
        "\n",
        "[(x.__name__,x.__version__) for x in [np,pd,sns]]"
      ],
      "execution_count": 2,
      "outputs": [
        {
          "output_type": "execute_result",
          "data": {
            "text/plain": [
              "[('numpy', '1.18.5'), ('pandas', '1.0.4'), ('seaborn', '0.10.1')]"
            ]
          },
          "metadata": {
            "tags": []
          },
          "execution_count": 2
        }
      ]
    },
    {
      "cell_type": "code",
      "metadata": {
        "id": "ke-a6RuxRZgV",
        "colab_type": "code",
        "colab": {
          "base_uri": "https://localhost:8080/",
          "height": 107
        },
        "outputId": "5e9717a2-eb10-49c6-e70c-d0ac5f954616"
      },
      "source": [
        "from sklearn.model_selection import train_test_split\n",
        "from sklearn.model_selection import StratifiedKFold\n",
        "\n",
        "from sklearn.pipeline import Pipeline\n",
        "from sklearn.preprocessing import StandardScaler\n",
        "\n",
        "\n",
        "from mlxtend.feature_selection import ColumnSelector\n",
        "\n",
        "from sklearn import metrics\n",
        "\n",
        "from sklearn.metrics import make_scorer\n",
        "from sklearn.model_selection import cross_val_score"
      ],
      "execution_count": 3,
      "outputs": [
        {
          "output_type": "stream",
          "text": [
            "/usr/local/lib/python3.6/dist-packages/sklearn/externals/joblib/__init__.py:15: FutureWarning:\n",
            "\n",
            "sklearn.externals.joblib is deprecated in 0.21 and will be removed in 0.23. Please import this functionality directly from joblib, which can be installed with: pip install joblib. If this warning is raised when loading pickled models, you may need to re-serialize those models with scikit-learn 0.21+.\n",
            "\n"
          ],
          "name": "stderr"
        }
      ]
    },
    {
      "cell_type": "code",
      "metadata": {
        "id": "RyD2gP4XRotG",
        "colab_type": "code",
        "colab": {
          "base_uri": "https://localhost:8080/",
          "height": 34
        },
        "outputId": "266d9170-8db7-4bd3-d259-1c0583cc684d"
      },
      "source": [
        "import xgboost as xgb\n",
        "\n",
        "xgb.__version__"
      ],
      "execution_count": 4,
      "outputs": [
        {
          "output_type": "execute_result",
          "data": {
            "text/plain": [
              "'1.1.1'"
            ]
          },
          "metadata": {
            "tags": []
          },
          "execution_count": 4
        }
      ]
    },
    {
      "cell_type": "code",
      "metadata": {
        "id": "aGyOrt1y06Of",
        "colab_type": "code",
        "colab": {}
      },
      "source": [
        "from scipy.optimize import fmin_powell"
      ],
      "execution_count": 5,
      "outputs": []
    },
    {
      "cell_type": "markdown",
      "metadata": {
        "id": "2VfYzhKH2qiK",
        "colab_type": "text"
      },
      "source": [
        "# Data Cleaning"
      ]
    },
    {
      "cell_type": "code",
      "metadata": {
        "id": "Ne7Ug1EEdbVN",
        "colab_type": "code",
        "colab": {
          "base_uri": "https://localhost:8080/",
          "height": 52
        },
        "outputId": "da9fb5a9-007f-4db6-aef4-69baf730070c"
      },
      "source": [
        "def data_cleaning():\n",
        "    df = pd.read_csv('https://github.com/bhishanpdl/Datasets/blob/master/Prudential_Insurance/raw/train.csv.zip?raw=true',compression='zip')\n",
        "    columns_to_drop = ['Id', 'Medical_History_10','Medical_History_24']\n",
        "    df = df.drop(columns_to_drop,axis=1)\n",
        "    df['Product_Info_2_char'] = df.Product_Info_2.str[0]\n",
        "    df['Product_Info_2_num'] = df.Product_Info_2.str[1]\n",
        "\n",
        "    # factorize categorical variables\n",
        "    df['Product_Info_2'] = pd.factorize(df['Product_Info_2'])[0]\n",
        "    df['Product_Info_2_char'] = pd.factorize(df['Product_Info_2_char'])[0]\n",
        "    df['Product_Info_2_num'] = pd.factorize(df['Product_Info_2_num'])[0]\n",
        "\n",
        "    df['BMI_Age'] = df['BMI'] * df['Ins_Age']\n",
        "\n",
        "    med_keyword_columns = df.columns[df.columns.str.startswith('Medical_Keyword_')]\n",
        "    df['Med_Keywords_Count'] = df[med_keyword_columns].sum(axis=1)\n",
        "    df = df.fillna(-1)\n",
        "\n",
        "    return df\n",
        "\n",
        "df = data_cleaning()\n",
        "print(df.shape)\n",
        "df.isna().sum().sum(), df.sum().sum()"
      ],
      "execution_count": 7,
      "outputs": [
        {
          "output_type": "stream",
          "text": [
            "(59381, 129)\n"
          ],
          "name": "stdout"
        },
        {
          "output_type": "execute_result",
          "data": {
            "text/plain": [
              "(0, 26897356.818315115)"
            ]
          },
          "metadata": {
            "tags": []
          },
          "execution_count": 7
        }
      ]
    },
    {
      "cell_type": "code",
      "metadata": {
        "id": "qYhjvAgJ_vGY",
        "colab_type": "code",
        "colab": {}
      },
      "source": [
        "def get_already_cleaned_data():\n",
        "    file_data = out_dir + 'Prudential/' + 'clean_data.csv'\n",
        "    df = pd.read_csv(file_data,compression='zip')\n",
        "    df = df.drop('Id',axis=1)\n",
        "    file_features = out_dir + 'Prudential/'+'categorical_features.json'\n",
        "    cols_cat = json.load(open(file_features))\n",
        "    df = pd.get_dummies(df,columns=cols_cat,drop_first=True)\n",
        "\n",
        "    return df\n",
        "\n",
        "# this gives worse result. \n",
        "# df = get_already_cleaned_data()\n",
        "# print(df.shape)\n",
        "# df.isna().sum().sum(), df.sum().sum()"
      ],
      "execution_count": 8,
      "outputs": []
    },
    {
      "cell_type": "markdown",
      "metadata": {
        "id": "dQMoFYd-cVK2",
        "colab_type": "text"
      },
      "source": [
        "# Train-test Split with Stratify"
      ]
    },
    {
      "cell_type": "code",
      "metadata": {
        "id": "0sCGB7MqdTgD",
        "colab_type": "code",
        "colab": {
          "base_uri": "https://localhost:8080/",
          "height": 281
        },
        "outputId": "f2f99958-3afb-4709-c7a2-f7b8c198d1d7"
      },
      "source": [
        "from sklearn.model_selection import train_test_split\n",
        "\n",
        "target = 'Response'\n",
        "df_Xtrain, df_Xtest, ser_ytrain, ser_ytest = train_test_split(\n",
        "    df.drop(target,axis=1), df[target],\n",
        "    test_size=0.2, random_state=SEED, stratify=df[target])\n",
        "\n",
        "\n",
        "ytrain = ser_ytrain.to_numpy().ravel()\n",
        "ytest = ser_ytest.to_numpy().ravel()\n",
        "\n",
        "print(f\"df             : {df.shape}\")\n",
        "print(f\"\\ndf_Xtrain      : {df_Xtrain.shape}\")\n",
        "print(f\"ser_ytrain     : {ser_ytrain.shape}\")\n",
        "\n",
        "print(f\"\\ndf_Xtest       : {df_Xtest.shape}\")\n",
        "print(f\"ser_ytest      : {ser_ytest.shape}\")\n",
        "\n",
        "df_Xtrain.head(2)"
      ],
      "execution_count": 10,
      "outputs": [
        {
          "output_type": "stream",
          "text": [
            "df             : (59381, 129)\n",
            "\n",
            "df_Xtrain      : (47504, 128)\n",
            "ser_ytrain     : (47504,)\n",
            "\n",
            "df_Xtest       : (11877, 128)\n",
            "ser_ytest      : (11877,)\n"
          ],
          "name": "stdout"
        },
        {
          "output_type": "execute_result",
          "data": {
            "text/html": [
              "<div>\n",
              "<style scoped>\n",
              "    .dataframe tbody tr th:only-of-type {\n",
              "        vertical-align: middle;\n",
              "    }\n",
              "\n",
              "    .dataframe tbody tr th {\n",
              "        vertical-align: top;\n",
              "    }\n",
              "\n",
              "    .dataframe thead th {\n",
              "        text-align: right;\n",
              "    }\n",
              "</style>\n",
              "<table border=\"1\" class=\"dataframe\">\n",
              "  <thead>\n",
              "    <tr style=\"text-align: right;\">\n",
              "      <th></th>\n",
              "      <th>Product_Info_1</th>\n",
              "      <th>Product_Info_2</th>\n",
              "      <th>Product_Info_3</th>\n",
              "      <th>Product_Info_4</th>\n",
              "      <th>Product_Info_5</th>\n",
              "      <th>Product_Info_6</th>\n",
              "      <th>Product_Info_7</th>\n",
              "      <th>Ins_Age</th>\n",
              "      <th>Ht</th>\n",
              "      <th>Wt</th>\n",
              "      <th>BMI</th>\n",
              "      <th>Employment_Info_1</th>\n",
              "      <th>Employment_Info_2</th>\n",
              "      <th>Employment_Info_3</th>\n",
              "      <th>Employment_Info_4</th>\n",
              "      <th>Employment_Info_5</th>\n",
              "      <th>Employment_Info_6</th>\n",
              "      <th>InsuredInfo_1</th>\n",
              "      <th>InsuredInfo_2</th>\n",
              "      <th>InsuredInfo_3</th>\n",
              "      <th>InsuredInfo_4</th>\n",
              "      <th>InsuredInfo_5</th>\n",
              "      <th>InsuredInfo_6</th>\n",
              "      <th>InsuredInfo_7</th>\n",
              "      <th>Insurance_History_1</th>\n",
              "      <th>Insurance_History_2</th>\n",
              "      <th>Insurance_History_3</th>\n",
              "      <th>Insurance_History_4</th>\n",
              "      <th>Insurance_History_5</th>\n",
              "      <th>Insurance_History_7</th>\n",
              "      <th>Insurance_History_8</th>\n",
              "      <th>Insurance_History_9</th>\n",
              "      <th>Family_Hist_1</th>\n",
              "      <th>Family_Hist_2</th>\n",
              "      <th>Family_Hist_3</th>\n",
              "      <th>Family_Hist_4</th>\n",
              "      <th>Family_Hist_5</th>\n",
              "      <th>Medical_History_1</th>\n",
              "      <th>Medical_History_2</th>\n",
              "      <th>Medical_History_3</th>\n",
              "      <th>...</th>\n",
              "      <th>Medical_Keyword_13</th>\n",
              "      <th>Medical_Keyword_14</th>\n",
              "      <th>Medical_Keyword_15</th>\n",
              "      <th>Medical_Keyword_16</th>\n",
              "      <th>Medical_Keyword_17</th>\n",
              "      <th>Medical_Keyword_18</th>\n",
              "      <th>Medical_Keyword_19</th>\n",
              "      <th>Medical_Keyword_20</th>\n",
              "      <th>Medical_Keyword_21</th>\n",
              "      <th>Medical_Keyword_22</th>\n",
              "      <th>Medical_Keyword_23</th>\n",
              "      <th>Medical_Keyword_24</th>\n",
              "      <th>Medical_Keyword_25</th>\n",
              "      <th>Medical_Keyword_26</th>\n",
              "      <th>Medical_Keyword_27</th>\n",
              "      <th>Medical_Keyword_28</th>\n",
              "      <th>Medical_Keyword_29</th>\n",
              "      <th>Medical_Keyword_30</th>\n",
              "      <th>Medical_Keyword_31</th>\n",
              "      <th>Medical_Keyword_32</th>\n",
              "      <th>Medical_Keyword_33</th>\n",
              "      <th>Medical_Keyword_34</th>\n",
              "      <th>Medical_Keyword_35</th>\n",
              "      <th>Medical_Keyword_36</th>\n",
              "      <th>Medical_Keyword_37</th>\n",
              "      <th>Medical_Keyword_38</th>\n",
              "      <th>Medical_Keyword_39</th>\n",
              "      <th>Medical_Keyword_40</th>\n",
              "      <th>Medical_Keyword_41</th>\n",
              "      <th>Medical_Keyword_42</th>\n",
              "      <th>Medical_Keyword_43</th>\n",
              "      <th>Medical_Keyword_44</th>\n",
              "      <th>Medical_Keyword_45</th>\n",
              "      <th>Medical_Keyword_46</th>\n",
              "      <th>Medical_Keyword_47</th>\n",
              "      <th>Medical_Keyword_48</th>\n",
              "      <th>Product_Info_2_char</th>\n",
              "      <th>Product_Info_2_num</th>\n",
              "      <th>BMI_Age</th>\n",
              "      <th>Med_Keywords_Count</th>\n",
              "    </tr>\n",
              "  </thead>\n",
              "  <tbody>\n",
              "    <tr>\n",
              "      <th>616</th>\n",
              "      <td>1</td>\n",
              "      <td>10</td>\n",
              "      <td>26</td>\n",
              "      <td>0.230769</td>\n",
              "      <td>2</td>\n",
              "      <td>3</td>\n",
              "      <td>1</td>\n",
              "      <td>0.059701</td>\n",
              "      <td>0.727273</td>\n",
              "      <td>0.225941</td>\n",
              "      <td>0.341911</td>\n",
              "      <td>0.03</td>\n",
              "      <td>9</td>\n",
              "      <td>1</td>\n",
              "      <td>0.0</td>\n",
              "      <td>2</td>\n",
              "      <td>0.015</td>\n",
              "      <td>1</td>\n",
              "      <td>2</td>\n",
              "      <td>3</td>\n",
              "      <td>3</td>\n",
              "      <td>1</td>\n",
              "      <td>1</td>\n",
              "      <td>1</td>\n",
              "      <td>2</td>\n",
              "      <td>1</td>\n",
              "      <td>1</td>\n",
              "      <td>3</td>\n",
              "      <td>-1.000000</td>\n",
              "      <td>3</td>\n",
              "      <td>2</td>\n",
              "      <td>3</td>\n",
              "      <td>3</td>\n",
              "      <td>0.376812</td>\n",
              "      <td>-1.0</td>\n",
              "      <td>0.366197</td>\n",
              "      <td>-1.000000</td>\n",
              "      <td>-1.0</td>\n",
              "      <td>162</td>\n",
              "      <td>2</td>\n",
              "      <td>...</td>\n",
              "      <td>0</td>\n",
              "      <td>0</td>\n",
              "      <td>0</td>\n",
              "      <td>0</td>\n",
              "      <td>0</td>\n",
              "      <td>0</td>\n",
              "      <td>0</td>\n",
              "      <td>0</td>\n",
              "      <td>0</td>\n",
              "      <td>0</td>\n",
              "      <td>0</td>\n",
              "      <td>0</td>\n",
              "      <td>0</td>\n",
              "      <td>0</td>\n",
              "      <td>0</td>\n",
              "      <td>0</td>\n",
              "      <td>0</td>\n",
              "      <td>0</td>\n",
              "      <td>0</td>\n",
              "      <td>0</td>\n",
              "      <td>0</td>\n",
              "      <td>0</td>\n",
              "      <td>0</td>\n",
              "      <td>0</td>\n",
              "      <td>0</td>\n",
              "      <td>0</td>\n",
              "      <td>0</td>\n",
              "      <td>0</td>\n",
              "      <td>0</td>\n",
              "      <td>0</td>\n",
              "      <td>0</td>\n",
              "      <td>0</td>\n",
              "      <td>0</td>\n",
              "      <td>0</td>\n",
              "      <td>0</td>\n",
              "      <td>0</td>\n",
              "      <td>1</td>\n",
              "      <td>0</td>\n",
              "      <td>0.020413</td>\n",
              "      <td>0</td>\n",
              "    </tr>\n",
              "    <tr>\n",
              "      <th>3239</th>\n",
              "      <td>1</td>\n",
              "      <td>0</td>\n",
              "      <td>26</td>\n",
              "      <td>0.230769</td>\n",
              "      <td>2</td>\n",
              "      <td>3</td>\n",
              "      <td>1</td>\n",
              "      <td>0.417910</td>\n",
              "      <td>0.654545</td>\n",
              "      <td>0.209205</td>\n",
              "      <td>0.376858</td>\n",
              "      <td>0.09</td>\n",
              "      <td>14</td>\n",
              "      <td>1</td>\n",
              "      <td>0.0</td>\n",
              "      <td>2</td>\n",
              "      <td>0.600</td>\n",
              "      <td>1</td>\n",
              "      <td>2</td>\n",
              "      <td>8</td>\n",
              "      <td>3</td>\n",
              "      <td>1</td>\n",
              "      <td>2</td>\n",
              "      <td>1</td>\n",
              "      <td>2</td>\n",
              "      <td>1</td>\n",
              "      <td>3</td>\n",
              "      <td>1</td>\n",
              "      <td>0.000333</td>\n",
              "      <td>1</td>\n",
              "      <td>3</td>\n",
              "      <td>2</td>\n",
              "      <td>2</td>\n",
              "      <td>0.710145</td>\n",
              "      <td>-1.0</td>\n",
              "      <td>-1.000000</td>\n",
              "      <td>0.419643</td>\n",
              "      <td>3.0</td>\n",
              "      <td>413</td>\n",
              "      <td>2</td>\n",
              "      <td>...</td>\n",
              "      <td>0</td>\n",
              "      <td>0</td>\n",
              "      <td>1</td>\n",
              "      <td>0</td>\n",
              "      <td>0</td>\n",
              "      <td>0</td>\n",
              "      <td>0</td>\n",
              "      <td>0</td>\n",
              "      <td>0</td>\n",
              "      <td>0</td>\n",
              "      <td>0</td>\n",
              "      <td>0</td>\n",
              "      <td>0</td>\n",
              "      <td>0</td>\n",
              "      <td>0</td>\n",
              "      <td>1</td>\n",
              "      <td>0</td>\n",
              "      <td>0</td>\n",
              "      <td>0</td>\n",
              "      <td>0</td>\n",
              "      <td>0</td>\n",
              "      <td>0</td>\n",
              "      <td>0</td>\n",
              "      <td>0</td>\n",
              "      <td>0</td>\n",
              "      <td>0</td>\n",
              "      <td>0</td>\n",
              "      <td>0</td>\n",
              "      <td>0</td>\n",
              "      <td>0</td>\n",
              "      <td>0</td>\n",
              "      <td>0</td>\n",
              "      <td>0</td>\n",
              "      <td>0</td>\n",
              "      <td>0</td>\n",
              "      <td>0</td>\n",
              "      <td>0</td>\n",
              "      <td>0</td>\n",
              "      <td>0.157493</td>\n",
              "      <td>2</td>\n",
              "    </tr>\n",
              "  </tbody>\n",
              "</table>\n",
              "<p>2 rows × 128 columns</p>\n",
              "</div>"
            ],
            "text/plain": [
              "      Product_Info_1  Product_Info_2  ...   BMI_Age  Med_Keywords_Count\n",
              "616                1              10  ...  0.020413                   0\n",
              "3239               1               0  ...  0.157493                   2\n",
              "\n",
              "[2 rows x 128 columns]"
            ]
          },
          "metadata": {
            "tags": []
          },
          "execution_count": 10
        }
      ]
    },
    {
      "cell_type": "code",
      "metadata": {
        "id": "c74kddn0R03g",
        "colab_type": "code",
        "colab": {}
      },
      "source": [
        "dtrain = xgb.DMatrix(df_Xtrain, label=ser_ytrain)\n",
        "dtest = xgb.DMatrix(df_Xtest, label=ser_ytest)"
      ],
      "execution_count": 19,
      "outputs": []
    },
    {
      "cell_type": "markdown",
      "metadata": {
        "id": "SBvntjMcnnZm",
        "colab_type": "text"
      },
      "source": [
        "# Evaluation Metric"
      ]
    },
    {
      "cell_type": "code",
      "metadata": {
        "id": "xGmT2kLFnpuu",
        "colab_type": "code",
        "colab": {}
      },
      "source": [
        "def eval_wrapper(yhat, y):  \n",
        "    y = np.array(y)\n",
        "    y = y.astype(int)\n",
        "    yhat = np.array(yhat)\n",
        "    yhat = np.clip(np.round(yhat), np.min(y), np.max(y)).astype(int)   \n",
        "    return metrics.cohen_kappa_score(yhat, y,weights='quadratic')"
      ],
      "execution_count": 12,
      "outputs": []
    },
    {
      "cell_type": "markdown",
      "metadata": {
        "id": "OIWQJS1YZjzw",
        "colab_type": "text"
      },
      "source": [
        "# Modelling xgboost classifier"
      ]
    },
    {
      "cell_type": "code",
      "metadata": {
        "id": "DZa_wP7qAImQ",
        "colab_type": "code",
        "colab": {
          "base_uri": "https://localhost:8080/",
          "height": 34
        },
        "outputId": "51152a7f-17ec-4ec4-8a59-9b15bbd4afb6"
      },
      "source": [
        "import xgboost\n",
        "from xgboost import XGBClassifier\n",
        "\n",
        "xgboost.__version__"
      ],
      "execution_count": 13,
      "outputs": [
        {
          "output_type": "execute_result",
          "data": {
            "text/plain": [
              "'1.1.1'"
            ]
          },
          "metadata": {
            "tags": []
          },
          "execution_count": 13
        }
      ]
    },
    {
      "cell_type": "code",
      "metadata": {
        "id": "CwAWGNBy4u1R",
        "colab_type": "code",
        "colab": {
          "base_uri": "https://localhost:8080/",
          "height": 54
        },
        "outputId": "13b990a6-9d46-4f94-e731-bf0cf75a308c"
      },
      "source": [
        "def get_params():\n",
        "    params = {}\n",
        "    params[\"objective\"] = \"reg:squarederror\"  \n",
        "    params[\"eta\"] = 0.05\n",
        "    params[\"min_child_weight\"] = 240\n",
        "    params[\"subsample\"] = 0.9\n",
        "    params[\"colsample_bytree\"] = 0.67\n",
        "    params[\"max_depth\"] = 6\n",
        "    params_lst = list(params.items())\n",
        "\n",
        "    return params_lst\n",
        "\n",
        "params_lst = get_params()\n",
        "print(params_lst)"
      ],
      "execution_count": 14,
      "outputs": [
        {
          "output_type": "stream",
          "text": [
            "[('objective', 'reg:squarederror'), ('eta', 0.05), ('min_child_weight', 240), ('subsample', 0.9), ('colsample_bytree', 0.67), ('max_depth', 6)]\n"
          ],
          "name": "stdout"
        }
      ]
    },
    {
      "cell_type": "code",
      "metadata": {
        "id": "qYt3E_xY40og",
        "colab_type": "code",
        "colab": {}
      },
      "source": [
        "xgb_num_rounds = 800\n",
        "num_classes = 8"
      ],
      "execution_count": 15,
      "outputs": []
    },
    {
      "cell_type": "code",
      "metadata": {
        "id": "zxADxecf49kw",
        "colab_type": "code",
        "colab": {
          "base_uri": "https://localhost:8080/",
          "height": 52
        },
        "outputId": "e2e221bb-4c87-44d2-d73b-66e4edda0063"
      },
      "source": [
        "%%time\n",
        "# train model\n",
        "model = xgb.train(params_lst, dtrain, xgb_num_rounds) "
      ],
      "execution_count": 17,
      "outputs": [
        {
          "output_type": "stream",
          "text": [
            "CPU times: user 4min 12s, sys: 144 ms, total: 4min 13s\n",
            "Wall time: 2min 8s\n"
          ],
          "name": "stdout"
        }
      ]
    },
    {
      "cell_type": "code",
      "metadata": {
        "id": "Zftfm_ni6w8z",
        "colab_type": "code",
        "colab": {
          "base_uri": "https://localhost:8080/",
          "height": 52
        },
        "outputId": "f2212e10-b79e-40e9-96f8-643207edeb5a"
      },
      "source": [
        "# get preds\n",
        "train_preds = model.predict(dtrain, ntree_limit=model.best_iteration)\n",
        "test_preds = model.predict(dtest, ntree_limit=model.best_iteration)\n",
        "\n",
        "train_preds = np.clip(train_preds, -0.99, 8.99)\n",
        "test_preds = np.clip(test_preds, -0.99, 8.99)\n",
        "\n",
        "print('Train score is:', eval_wrapper(train_preds, ytrain))\n",
        "print('Test score is :', eval_wrapper(test_preds, ytest))\n",
        "\n",
        "\"\"\"\n",
        "Train score is: 0.6691834159910361\n",
        "Test score is : 0.6040096397174282\n",
        "\n",
        "Using already cleaned data:\n",
        "\n",
        "Train score is: 0.6594926527156114\n",
        "Test score is : 0.5903855023812505\n",
        "\"\"\";"
      ],
      "execution_count": 20,
      "outputs": [
        {
          "output_type": "stream",
          "text": [
            "Train score is: 0.6691834159910361\n",
            "Test score is : 0.6040096397174282\n"
          ],
          "name": "stdout"
        }
      ]
    },
    {
      "cell_type": "markdown",
      "metadata": {
        "id": "iZt8F7zT6_bH",
        "colab_type": "text"
      },
      "source": [
        "# Training Offsets"
      ]
    },
    {
      "cell_type": "code",
      "metadata": {
        "id": "ir3H22xZ7y2a",
        "colab_type": "code",
        "colab": {}
      },
      "source": [
        "def apply_offset(data, bin_offset, sv, scorer=eval_wrapper):\n",
        "    # data has dimension (3,N)\n",
        "    # offsets = np.array([0.1, -1, -2, -1, -0.8, 0.02, 0.8, 1])\n",
        "    # data = np.vstack((train_preds, train_preds, ytrain_orig))\n",
        "    #\n",
        "    # 0 = data, 1 = offset_pred, 2 = labels\n",
        "    # offset_pred = pred + bin_offset\n",
        "    #\n",
        "    data[1, data[0].astype(int)==sv] = \\\n",
        "    data[0, data[0].astype(int)==sv] + bin_offset\n",
        "\n",
        "    score = scorer(data[1], data[2])\n",
        "    return score"
      ],
      "execution_count": 21,
      "outputs": []
    },
    {
      "cell_type": "code",
      "metadata": {
        "id": "3wVHIYkG717Z",
        "colab_type": "code",
        "colab": {
          "base_uri": "https://localhost:8080/",
          "height": 34
        },
        "outputId": "0291eb84-c549-4710-f54c-07c88b6eff83"
      },
      "source": [
        "offsets = np.array([0.1, -1, -2, -1, -0.8, 0.02, 0.8, 1])\n",
        "data = np.vstack((train_preds, train_preds, ytrain))\n",
        "data.shape"
      ],
      "execution_count": 23,
      "outputs": [
        {
          "output_type": "execute_result",
          "data": {
            "text/plain": [
              "(3, 47504)"
            ]
          },
          "metadata": {
            "tags": []
          },
          "execution_count": 23
        }
      ]
    },
    {
      "cell_type": "code",
      "metadata": {
        "id": "_66oOwU38a8e",
        "colab_type": "code",
        "colab": {}
      },
      "source": [
        "for i in range(num_classes):\n",
        "    data[1, data[0].astype(int)==i] = \\\n",
        "    data[0, data[0].astype(int)==i] + offsets[i] "
      ],
      "execution_count": 24,
      "outputs": []
    },
    {
      "cell_type": "code",
      "metadata": {
        "id": "U4-dEy6l8cXH",
        "colab_type": "code",
        "colab": {
          "base_uri": "https://localhost:8080/",
          "height": 585
        },
        "outputId": "9167eaeb-197b-4b93-8ea8-4aa4b64af6ba"
      },
      "source": [
        "for i in range(num_classes):\n",
        "    func_train_offset = lambda x: -apply_offset(data, x, i)\n",
        "    # note: scipy function fmin_powell needs initial guess to minimize the func\n",
        "    # here initial guess is offsets[i]\n",
        "    # the default guess is 0.5, but we need to run this function\n",
        "    # multiple times with different guess values to get useful offsets.\n",
        "    offsets[i] = fmin_powell(func_train_offset, offsets[i]) "
      ],
      "execution_count": 25,
      "outputs": [
        {
          "output_type": "stream",
          "text": [
            "Optimization terminated successfully.\n",
            "         Current function value: -0.718521\n",
            "         Iterations: 1\n",
            "         Function evaluations: 14\n",
            "Optimization terminated successfully.\n",
            "         Current function value: -0.718521\n",
            "         Iterations: 1\n",
            "         Function evaluations: 14\n",
            "Optimization terminated successfully.\n",
            "         Current function value: -0.718521\n",
            "         Iterations: 1\n",
            "         Function evaluations: 14\n",
            "Optimization terminated successfully.\n",
            "         Current function value: -0.718849\n",
            "         Iterations: 2\n",
            "         Function evaluations: 81\n",
            "Optimization terminated successfully.\n",
            "         Current function value: -0.718879\n",
            "         Iterations: 1\n",
            "         Function evaluations: 24\n",
            "Optimization terminated successfully.\n",
            "         Current function value: -0.718900\n",
            "         Iterations: 1\n",
            "         Function evaluations: 18\n",
            "Optimization terminated successfully.\n",
            "         Current function value: -0.719639\n",
            "         Iterations: 2\n",
            "         Function evaluations: 50\n",
            "Optimization terminated successfully.\n",
            "         Current function value: -0.719639\n",
            "         Iterations: 1\n",
            "         Function evaluations: 13\n"
          ],
          "name": "stdout"
        }
      ]
    },
    {
      "cell_type": "code",
      "metadata": {
        "id": "xfSgKzb-85Av",
        "colab_type": "code",
        "colab": {}
      },
      "source": [
        "# apply offsets to test\n",
        "data = np.vstack((test_preds, test_preds, ytest))\n",
        "for i in range(num_classes):\n",
        "    data[1, data[0].astype(int)==i] = \\\n",
        "    data[0, data[0].astype(int)==i] + offsets[i] \n",
        "\n",
        "final_test_preds = np.round(np.clip(data[1], 1, 8)).astype(int)"
      ],
      "execution_count": 26,
      "outputs": []
    },
    {
      "cell_type": "code",
      "metadata": {
        "id": "fzEcNkGk9H3m",
        "colab_type": "code",
        "colab": {
          "base_uri": "https://localhost:8080/",
          "height": 34
        },
        "outputId": "93025dec-1a32-4eb2-c23d-1423e0c7d79c"
      },
      "source": [
        "print('Test score using offset is :', eval_wrapper(final_test_preds, ytest))"
      ],
      "execution_count": 27,
      "outputs": [
        {
          "output_type": "stream",
          "text": [
            "Test score using offset is : 0.6490565088506439\n"
          ],
          "name": "stdout"
        }
      ]
    },
    {
      "cell_type": "code",
      "metadata": {
        "id": "EAQtSPUY9QzG",
        "colab_type": "code",
        "colab": {}
      },
      "source": [
        ""
      ],
      "execution_count": null,
      "outputs": []
    }
  ]
}